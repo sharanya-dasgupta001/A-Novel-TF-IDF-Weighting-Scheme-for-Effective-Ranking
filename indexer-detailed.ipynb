{
 "cells": [
  {
   "cell_type": "code",
   "execution_count": 1,
   "id": "5ff55e1d-a8a1-4d20-8ab1-75f89d6e8bb4",
   "metadata": {},
   "outputs": [],
   "source": [
    "import pandas as pd\n",
    "import os\n",
    "import re\n",
    "import lucene\n",
    "# Indexer imports:\n",
    "from org.apache.lucene.analysis.standard import StandardAnalyzer\n",
    "# Porter Stemmer :- word with > 4 letters last letter y -> i\n",
    "from org.apache.lucene.analysis.en import EnglishAnalyzer \n",
    "from org.apache.lucene.index import IndexWriter, IndexWriterConfig\n",
    "#from org.apache.lucene.store import SimpleFSDirectory, FSDirectory\n",
    "from org.apache.lucene.store import FSDirectory\n",
    "import org.apache.lucene.document as document\n",
    "\n",
    "from java.io import StringReader \n",
    "from org.apache.lucene.analysis.standard import StandardAnalyzer \n",
    "from org.apache.lucene.analysis.tokenattributes import CharTermAttribute\n",
    "\n",
    "from java.io import File"
   ]
  },
  {
   "cell_type": "code",
   "execution_count": 2,
   "id": "9cb1346f-f05a-470e-a0bb-6dbf165f3042",
   "metadata": {},
   "outputs": [
    {
     "data": {
      "text/plain": [
       "<jcc.JCCEnv at 0x7f54406a6970>"
      ]
     },
     "execution_count": 2,
     "metadata": {},
     "output_type": "execute_result"
    }
   ],
   "source": [
    "lucene.initVM()"
   ]
  },
  {
   "cell_type": "code",
   "execution_count": 3,
   "id": "cae7dee6-b2fe-46fa-aa42-f29867ab97cd",
   "metadata": {},
   "outputs": [
    {
     "name": "stdout",
     "output_type": "stream",
     "text": [
      "/home/sharanya/Codes/PyLucene\n"
     ]
    }
   ],
   "source": [
    "!pwd"
   ]
  },
  {
   "cell_type": "code",
   "execution_count": 4,
   "id": "0a9cc2d2-e291-48df-9754-7390289f9e92",
   "metadata": {},
   "outputs": [],
   "source": [
    "# Convert to path variable\n",
    "indexPath = File(\"assignment_index/\").toPath() \n",
    "# Storing in hard-disk -> file directory\n",
    "indexDir = FSDirectory.open(indexPath)"
   ]
  },
  {
   "cell_type": "code",
   "execution_count": 5,
   "id": "98b6bf37-fc3a-48c9-9534-2151701d2faf",
   "metadata": {
    "editable": true,
    "slideshow": {
     "slide_type": ""
    },
    "tags": []
   },
   "outputs": [
    {
     "ename": "UnboundLocalError",
     "evalue": "local variable 'i' referenced before assignment",
     "output_type": "error",
     "traceback": [
      "\u001b[0;31m---------------------------------------------------------------------------\u001b[0m",
      "\u001b[0;31mUnboundLocalError\u001b[0m                         Traceback (most recent call last)",
      "Cell \u001b[0;32mIn[5], line 68\u001b[0m\n\u001b[1;32m     65\u001b[0m     \u001b[38;5;28mprint\u001b[39m(df)\n\u001b[1;32m     66\u001b[0m     df\u001b[38;5;241m.\u001b[39mto_csv(\u001b[38;5;124m'\u001b[39m\u001b[38;5;124mfile1.csv\u001b[39m\u001b[38;5;124m'\u001b[39m)\n\u001b[0;32m---> 68\u001b[0m \u001b[43mmakeIndex\u001b[49m\u001b[43m(\u001b[49m\u001b[38;5;124;43m\"\u001b[39;49m\u001b[38;5;124;43mtrec678rb/documents\u001b[39;49m\u001b[38;5;124;43m\"\u001b[39;49m\u001b[43m)\u001b[49m\n\u001b[1;32m     69\u001b[0m closeWriter()\n",
      "Cell \u001b[0;32mIn[5], line 39\u001b[0m, in \u001b[0;36mmakeIndex\u001b[0;34m(file_path)\u001b[0m\n\u001b[1;32m     36\u001b[0m f \u001b[38;5;241m=\u001b[39m \u001b[38;5;28mopen\u001b[39m(\u001b[38;5;124m\"\u001b[39m\u001b[38;5;124mtrec678rb/documents/\u001b[39m\u001b[38;5;124m\"\u001b[39m\u001b[38;5;241m+\u001b[39mfilename,encoding\u001b[38;5;241m=\u001b[39m\u001b[38;5;124m\"\u001b[39m\u001b[38;5;124mlatin\u001b[39m\u001b[38;5;124m\"\u001b[39m)\n\u001b[1;32m     37\u001b[0m line \u001b[38;5;241m=\u001b[39m f\u001b[38;5;241m.\u001b[39mreadline()\n\u001b[0;32m---> 39\u001b[0m \u001b[38;5;28mprint\u001b[39m(\u001b[38;5;124m\"\u001b[39m\u001b[38;5;124mProcessing \u001b[39m\u001b[38;5;132;01m%d\u001b[39;00m\u001b[38;5;124mth file -\u001b[39m\u001b[38;5;124m\"\u001b[39m\u001b[38;5;241m%\u001b[39m\u001b[43mi\u001b[49m,filename)\n\u001b[1;32m     41\u001b[0m \u001b[38;5;28;01mwhile\u001b[39;00m line :\n\u001b[1;32m     42\u001b[0m     \u001b[38;5;28;01mif\u001b[39;00m \u001b[38;5;124m\"\u001b[39m\u001b[38;5;124m<DOCNO>\u001b[39m\u001b[38;5;124m\"\u001b[39m \u001b[38;5;129;01min\u001b[39;00m line :\n",
      "\u001b[0;31mUnboundLocalError\u001b[0m: local variable 'i' referenced before assignment"
     ]
    }
   ],
   "source": [
    "# English Analyzer -> Remove all stopwords\n",
    "writerConfig = IndexWriterConfig(EnglishAnalyzer()) \n",
    "\n",
    "# Responsible for writing lucene document in directory\n",
    "writer = IndexWriter(indexDir, writerConfig) \n",
    "\n",
    "def indexMovie(doc_no, text):\n",
    "    \n",
    "    # Storing individual component of data in lucene understandable format (Convert text -> lucene document with many fields)\n",
    "    doc = document.Document() \n",
    "\n",
    "    # Adding Fields\n",
    "    # .add() -> 3 parameters -> name of the field (string) , actual thing to store , whether we want to store the data (Playing)\n",
    "    # Telling interpreter to store the content in the variable in a field named as title and content will be stored\n",
    "    doc.add(document.Field(\"DOC_NO\", doc_no, document.TextField.TYPE_STORED)) \n",
    "    doc.add(document.Field(\"TEXT\", text, document.TextField.TYPE_STORED))\n",
    "    \n",
    "    writer.addDocument(doc)\n",
    "\n",
    "def closeWriter():\n",
    "    writer.close()\n",
    "\n",
    "def makeIndex(file_path):\n",
    "    \n",
    "    # docid = 0\n",
    "    # for i in df.index:\n",
    "    #     print(docid, \"-\", df['Title'][i])\n",
    "    #     indexMovie(df['Title'][i], df['Plot'][i])\n",
    "    #     docid += 1\n",
    "        \n",
    "    directory = os.fsencode(file_path)\n",
    "    # df = pd.DataFrame({'DOCNO':[],'TEXT':[]})\n",
    "    \n",
    "    for file in os.listdir(directory):\n",
    "        filename = os.fsdecode(file)\n",
    "        f = open(\"trec678rb/documents/\"+filename,encoding=\"latin\")\n",
    "        line = f.readline()\n",
    "        \n",
    "        print(\"Processing %dth file -\"%i,filename)\n",
    "        \n",
    "        while line :\n",
    "            if \"<DOCNO>\" in line :\n",
    "                doc_no = line.strip(\"<DOCNO> </DOCNO>\\n\")\n",
    "                while line and line[0:6] != \"<TEXT>\" :\n",
    "                    line = f.readline()\n",
    "                line = f.readline()\n",
    "                text = \"\"\n",
    "                while line and line != \"</TEXT>\\n\" :\n",
    "                    if ( line[0:4] == \"<!--\" or line == '\\n') :\n",
    "                        line = f.readline()\n",
    "                        continue\n",
    "                    line=re.sub('<[/]*\\w+>', '', line)\n",
    "                    if filename[0:2]==\"la\":\n",
    "                        line=re.sub('<[TABLECELL].*>', '', line)\n",
    "                    if filename[0:2]==\"fb\":\n",
    "                        line=re.sub('<[F P=]*[0-9]*>', '', line)\n",
    "                        line=re.sub('<[FIG ID=]*.*[A-C]>', '', line)\n",
    "                    text+=line\n",
    "                    line = f.readline()\n",
    "                indexMovie(doc_no, text)\n",
    "                df = pd.concat([df, pd.DataFrame([new_entry])], ignore_index=True)\n",
    "            line = f.readline()\n",
    "        i+=1\n",
    "    print(i,doc_count)\n",
    "    print(df)\n",
    "    df.to_csv('file1.csv')\n",
    "\n",
    "makeIndex(\"trec678rb/documents\")\n",
    "closeWriter()"
   ]
  }
 ],
 "metadata": {
  "kernelspec": {
   "display_name": "Python 3 (ipykernel)",
   "language": "python",
   "name": "python3"
  },
  "language_info": {
   "codemirror_mode": {
    "name": "ipython",
    "version": 3
   },
   "file_extension": ".py",
   "mimetype": "text/x-python",
   "name": "python",
   "nbconvert_exporter": "python",
   "pygments_lexer": "ipython3",
   "version": "3.10.12"
  }
 },
 "nbformat": 4,
 "nbformat_minor": 5
}
